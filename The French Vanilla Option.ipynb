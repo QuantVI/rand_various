{
 "cells": [
  {
   "cell_type": "markdown",
   "id": "940d3bfd",
   "metadata": {},
   "source": [
    "<p style=\"text-align:right;\">author: Vincent Ibia</p>\n",
    "<font size=1>This is a redo and extension of a project to design and price a structured derivatives product. The original project was done a spart of a class at the University fo Economics, Poznan.<br></font>"
   ]
  },
  {
   "cell_type": "markdown",
   "id": "7df7552d",
   "metadata": {},
   "source": [
    "Foreword\n",
    "\n",
    "Derivatives and Structured products tend to have interestig names such as Bermuda, Altiplano. In fact, so called \"mountain range\" options, are types of structured products/exotic options, desgined by Société Générale in the 1990s. The name of this option was chosen just to be amusing. It's features were then selected to have some relation to the name. I am also a fan of French Vanilla ice cream."
   ]
  },
  {
   "cell_type": "markdown",
   "id": "fc878605",
   "metadata": {},
   "source": [
    "<p style=\"text-align:center;font-family:calibri;font-size:28px\">The French Vanilla Option</p>"
   ]
  },
  {
   "cell_type": "markdown",
   "id": "f8c00908",
   "metadata": {},
   "source": [
    "<p style=\"font-size:20px\"><u>Description</u></p>\n",
    "\n",
    "<pre>\n",
    "<p style=\"font-size:18px;font-family:calibri;\">- Main Features\n",
    "        A Waiting period after purchase\n",
    "        A Chooser period prior to expiry\n",
    "        A High & Low barrier between Waiting and Choosing\n",
    "\n",
    "+ Waiting Period:    <i>Que Sera</i>\n",
    "        It doesn't matter what happens here.\n",
    "        * However, at the end of the period, the stock price must betwen between the barrier levels.\n",
    "\n",
    "+ Chooser Period:    <i>C'est La Vie</i>\n",
    "        Anything that happens here is in your favor.\n",
    "        - At expiry you choose to have a call or put option.\n",
    "        - The strike price is the stock price at the start of the chooser period.\n",
    "        * However, if the stock price if not different at maturity, you get no payoff.\n",
    "\n",
    "+ Barrier Period:    <i>Garnison</i>\n",
    "        Moving above the high barrier or below the low barrier will \"knock\" the option into a conversion.\n",
    "        Barriers are monitored continuously between Waiting Stop and Chooser Start.\n",
    "        * At Waiting Stop, the stock price must be between the barriers for the option to be valid.\n",
    "\n",
    "~ Early exit of the Garrison:\n",
    "        When a barrier is breached the product becomea a European option.\n",
    "        - In the case of a high breach, it becomes a Call (knock up-and-in).\n",
    "        - In the case of a low breach, it becomes a Put (knock down-and-in).\n",
    "        * In either case, the strike price of the option, is the price a Waiting Stop.\n",
    "        \n",
    "~ Where's the Vanilla?\n",
    "        - At anytime after entering the garrison the option can become a European opton.\n",
    "        * This happens either by choice (Chooser Period), or by knock-in (barrier breach).\n",
    "</p>\n",
    "</pre>"
   ]
  },
  {
   "cell_type": "markdown",
   "id": "cad61eeb",
   "metadata": {},
   "source": [
    "<pre><p style=\"font-size:18px;font-family:calibri;\">Over time, the French Vanilla Option can be visualized like this:\n",
    "</pre>"
   ]
  },
  {
   "cell_type": "code",
   "execution_count": null,
   "id": "87c7c2b1",
   "metadata": {},
   "outputs": [],
   "source": []
  },
  {
   "cell_type": "markdown",
   "id": "dd80b4e5",
   "metadata": {},
   "source": [
    "<pre><p style=\"font-size:18px;font-family:calibri;\">The graph shows the time on the <b>x-axis</b>, from 0 to T. On the <b>y-axis</b> is the stock price S<sub>t</sub>.</p>\n",
    "</pre>\n",
    "x-axis $-$ Times\n",
    "- $\\Large{t_0}$ = 0\n",
    "- $\\Large{t_{\\lambda}}$ = a time $>0$ when an example stock path exceeds either barrier, and does not return by time $t_a$\n",
    "- $\\Large{t_a}$ = **end** of the Waiting Period; Time of entry/\"in\" to the garrison\n",
    "- $\\Large{t_b}$ = **start** of the Chooser Period; Time of exit/\"out\" of the garrison\n",
    "- $\\Large{t_n}$ = **T** = time of maturity; expiry date\n",
    "\n",
    "y-axis $-$ Prices\n",
    "- $\\Large{H_1}$ = high barrier price\n",
    "- $\\Large{S_{t_a}}$ = \n",
    "- $\\Large{S_0}$ = \n",
    "- $\\Large{S_{t_b}}$ = \n",
    "- $\\Large{H_2}$ = low barrier price"
   ]
  },
  {
   "cell_type": "code",
   "execution_count": null,
   "id": "1615f228",
   "metadata": {},
   "outputs": [],
   "source": []
  }
 ],
 "metadata": {
  "kernelspec": {
   "display_name": "Python 3 (ipykernel)",
   "language": "python",
   "name": "python3"
  },
  "language_info": {
   "codemirror_mode": {
    "name": "ipython",
    "version": 3
   },
   "file_extension": ".py",
   "mimetype": "text/x-python",
   "name": "python",
   "nbconvert_exporter": "python",
   "pygments_lexer": "ipython3",
   "version": "3.9.7"
  }
 },
 "nbformat": 4,
 "nbformat_minor": 5
}
