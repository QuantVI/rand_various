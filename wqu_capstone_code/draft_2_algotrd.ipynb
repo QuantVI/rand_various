{
 "cells": [
  {
   "cell_type": "markdown",
   "metadata": {},
   "source": [
    "<font face=\"Nunito\" size=5>Algorithmic Trading Strategy Using Three Moving Averages & Python\n",
    "    </font>\n",
    "    (YouTube)"
   ]
  },
  {
   "cell_type": "markdown",
   "metadata": {},
   "source": [
    "Strategy:\n",
    "The 3MS crossover strategy uses 3 moving averages\n",
    "1. The short/fast MA\n",
    "2. The middle/medium MA\n",
    "3. The long/slow MA\n",
    "\n",
    "Buy & Sell Signals:\n",
    "There are two Buy/Sell Signals\n",
    "1. BUY when the mid MA crosses above the long MA, *and* the short MA crosses above the mid MA.\n",
    "  - implies SELL when the (first part is true) *and* the short MA crosses below the mid MA  \n",
    "2. BUY when the mid MA crosses below the long MA, *and* the short MA crosses below the mid MA.\n",
    "  - implies SELL when the (first part is true) *and* the short MA crosses above the mid MA."
   ]
  },
  {
   "cell_type": "markdown",
   "metadata": {},
   "source": [
    "<font face=\"Nunito\" size=4>...</font>"
   ]
  },
  {
   "cell_type": "markdown",
   "metadata": {},
   "source": [
    "<font face=\"Nunito\" size=4>0. Imports</font>"
   ]
  },
  {
   "cell_type": "code",
   "execution_count": 1,
   "metadata": {},
   "outputs": [],
   "source": [
    "import pandas as pd\n",
    "import numpy as np\n",
    "import matplotlib.pyplot as plt\n",
    "import matplotlib.patheffects as pe\n",
    "plt.style.use(\"fivethirtyeight\")\n",
    "%matplotlib inline"
   ]
  },
  {
   "cell_type": "markdown",
   "metadata": {},
   "source": [
    "<font face=\"Nunito\" size=4>I. Load Data into a DataFrame<br>\n",
    "<font size=2>\n",
    "We will be using data for Tesla (TSLA), from 2019-11-18 to 2020-06-09 inclusive of start/end.<br>\n",
    "Due to changes in Tesla stock, like it becomeing listed in the S\\&P500, the historical prices were edited,and don't match the video content.\n",
    "    </font>"
   ]
  },
  {
   "cell_type": "code",
   "execution_count": 2,
   "metadata": {},
   "outputs": [
    {
     "data": {
      "text/html": [
       "<div>\n",
       "<style scoped>\n",
       "    .dataframe tbody tr th:only-of-type {\n",
       "        vertical-align: middle;\n",
       "    }\n",
       "\n",
       "    .dataframe tbody tr th {\n",
       "        vertical-align: top;\n",
       "    }\n",
       "\n",
       "    .dataframe thead th {\n",
       "        text-align: right;\n",
       "    }\n",
       "</style>\n",
       "<table border=\"1\" class=\"dataframe\">\n",
       "  <thead>\n",
       "    <tr style=\"text-align: right;\">\n",
       "      <th></th>\n",
       "      <th>Close</th>\n",
       "    </tr>\n",
       "    <tr>\n",
       "      <th>Date</th>\n",
       "      <th></th>\n",
       "    </tr>\n",
       "  </thead>\n",
       "  <tbody>\n",
       "    <tr>\n",
       "      <th>2019-11-18</th>\n",
       "      <td>69.998001</td>\n",
       "    </tr>\n",
       "    <tr>\n",
       "      <th>2019-11-19</th>\n",
       "      <td>71.903999</td>\n",
       "    </tr>\n",
       "    <tr>\n",
       "      <th>2019-11-20</th>\n",
       "      <td>70.444000</td>\n",
       "    </tr>\n",
       "    <tr>\n",
       "      <th>2019-11-21</th>\n",
       "      <td>70.966003</td>\n",
       "    </tr>\n",
       "    <tr>\n",
       "      <th>2019-11-22</th>\n",
       "      <td>66.608002</td>\n",
       "    </tr>\n",
       "    <tr>\n",
       "      <th>...</th>\n",
       "      <td>...</td>\n",
       "    </tr>\n",
       "    <tr>\n",
       "      <th>2020-06-03</th>\n",
       "      <td>176.591995</td>\n",
       "    </tr>\n",
       "    <tr>\n",
       "      <th>2020-06-04</th>\n",
       "      <td>172.876007</td>\n",
       "    </tr>\n",
       "    <tr>\n",
       "      <th>2020-06-05</th>\n",
       "      <td>177.132004</td>\n",
       "    </tr>\n",
       "    <tr>\n",
       "      <th>2020-06-08</th>\n",
       "      <td>189.983994</td>\n",
       "    </tr>\n",
       "    <tr>\n",
       "      <th>2020-06-09</th>\n",
       "      <td>188.134003</td>\n",
       "    </tr>\n",
       "  </tbody>\n",
       "</table>\n",
       "<p>140 rows × 1 columns</p>\n",
       "</div>"
      ],
      "text/plain": [
       "                 Close\n",
       "Date                  \n",
       "2019-11-18   69.998001\n",
       "2019-11-19   71.903999\n",
       "2019-11-20   70.444000\n",
       "2019-11-21   70.966003\n",
       "2019-11-22   66.608002\n",
       "...                ...\n",
       "2020-06-03  176.591995\n",
       "2020-06-04  172.876007\n",
       "2020-06-05  177.132004\n",
       "2020-06-08  189.983994\n",
       "2020-06-09  188.134003\n",
       "\n",
       "[140 rows x 1 columns]"
      ]
     },
     "execution_count": 2,
     "metadata": {},
     "output_type": "execute_result"
    }
   ],
   "source": [
    "# parse_dates makes sure column 0 is trated as a date\n",
    "# index_col sets the dates ad the index, instead of having the usual row numbering\n",
    "# use_cols chooses specific colums fom  the csv instead of all of them:\n",
    "# In this case we only need the Date and Close. Their indexes are index 0 and index 4.\n",
    "    # Date, Open, High, Low, Close, Adj Close, Volume\n",
    "df0 = pd.read_csv(\"data_files/TSLA.csv\", parse_dates=[0],index_col=[0],usecols=[0,4])\n",
    "df0"
   ]
  },
  {
   "cell_type": "markdown",
   "metadata": {},
   "source": [
    "<font face=\"Nunito\" size=4>II. Visually Show the Close Price</font>"
   ]
  },
  {
   "cell_type": "code",
   "execution_count": 3,
   "metadata": {},
   "outputs": [
    {
     "data": {
      "image/png": "[encoded data removed]",
      "text/plain": [
       "<Figure size 864x432 with 1 Axes>"
      ]
     },
     "metadata": {
      "needs_background": "light"
     },
     "output_type": "display_data"
    }
   ],
   "source": [
    "plt.figure(figsize=(12,6))\n",
    "plt.title(\"Close Price- Tesla (TSLA)\", fontsize=16)\n",
    "plt.plot(df0)\n",
    "plt.xlabel(\"Date\", fontsize=14)\n",
    "plt.ylabel(\"Close Price\", fontsize=14)\n",
    "plt.show()"
   ]
  },
  {
   "cell_type": "markdown",
   "metadata": {},
   "source": [
    "<font face=\"Nunito\" size=4>III. Calculate the 3 Moving Averages</font>"
   ]
  },
  {
   "cell_type": "code",
   "execution_count": 4,
   "metadata": {},
   "outputs": [],
   "source": [
    "# Short Exponentially Weighted Moving Average\n",
    "SEMA = df0.Close.ewm(span = 5, adjust = False).mean()\n",
    "# Medium EMA\n",
    "MEMA = df0.Close.ewm(span = 20, adjust = False).mean()\n",
    "# Long EMA\n",
    "LEMA = df0.Close.ewm(span = 60, adjust = False).mean()"
   ]
  },
  {
   "cell_type": "markdown",
   "metadata": {},
   "source": [
    "<font face=\"Nunito\" size=4>IV. Visualize the Closing Price along with the Moving Averages</font>"
   ]
  },
  {
   "cell_type": "code",
   "execution_count": 5,
   "metadata": {
    "scrolled": true
   },
   "outputs": [
    {
     "data": {
      "image/png": "[encoded data removed]",
      "text/plain": [
       "<Figure size 864x288 with 1 Axes>"
      ]
     },
     "metadata": {
      "needs_background": "light"
     },
     "output_type": "display_data"
    }
   ],
   "source": [
    "plt.figure(figsize=(12,4))\n",
    "plt.title(\"Close Price- Tesla (TSLA)\", fontsize=16)\n",
    "plt.plot(df0, label = \"Close\", color=\"#0099ff\")\n",
    "# Now plot the EMA data\n",
    "plt.plot(SEMA, label = \"Short EMA\", color=\"red\")\n",
    "plt.plot(MEMA, label = \"Mid EMA\", color=\"#ff6600\")\n",
    "plt.plot(LEMA, label = \"Long EMA\", color=\"#ffff00\",linewidth=2,\n",
    "        path_effects=[pe.Stroke(linewidth=4, foreground='#cccc00'), pe.Normal()])\n",
    "# ----\n",
    "plt.xlabel(\"Date\", fontsize=14)\n",
    "plt.ylabel(\"Close Price\", fontsize=14)\n",
    "plt.legend(loc=\"center right\")\n",
    "plt.show()"
   ]
  },
  {
   "cell_type": "markdown",
   "metadata": {},
   "source": [
    "<font face=\"Nunito\" size=4>V. Add the EMAs to the Dataset</font>"
   ]
  },
  {
   "cell_type": "code",
   "execution_count": 6,
   "metadata": {},
   "outputs": [
    {
     "data": {
      "text/html": [
       "<div>\n",
       "<style scoped>\n",
       "    .dataframe tbody tr th:only-of-type {\n",
       "        vertical-align: middle;\n",
       "    }\n",
       "\n",
       "    .dataframe tbody tr th {\n",
       "        vertical-align: top;\n",
       "    }\n",
       "\n",
       "    .dataframe thead th {\n",
       "        text-align: right;\n",
       "    }\n",
       "</style>\n",
       "<table border=\"1\" class=\"dataframe\">\n",
       "  <thead>\n",
       "    <tr style=\"text-align: right;\">\n",
       "      <th></th>\n",
       "      <th>Close</th>\n",
       "      <th>SEMA</th>\n",
       "      <th>MEMA</th>\n",
       "      <th>LEMA</th>\n",
       "    </tr>\n",
       "    <tr>\n",
       "      <th>Date</th>\n",
       "      <th></th>\n",
       "      <th></th>\n",
       "      <th></th>\n",
       "      <th></th>\n",
       "    </tr>\n",
       "  </thead>\n",
       "  <tbody>\n",
       "    <tr>\n",
       "      <th>2019-11-18</th>\n",
       "      <td>69.998001</td>\n",
       "      <td>69.998001</td>\n",
       "      <td>69.998001</td>\n",
       "      <td>69.998001</td>\n",
       "    </tr>\n",
       "    <tr>\n",
       "      <th>2019-11-19</th>\n",
       "      <td>71.903999</td>\n",
       "      <td>70.633334</td>\n",
       "      <td>70.179525</td>\n",
       "      <td>70.060493</td>\n",
       "    </tr>\n",
       "    <tr>\n",
       "      <th>2019-11-20</th>\n",
       "      <td>70.444000</td>\n",
       "      <td>70.570222</td>\n",
       "      <td>70.204713</td>\n",
       "      <td>70.073067</td>\n",
       "    </tr>\n",
       "    <tr>\n",
       "      <th>2019-11-21</th>\n",
       "      <td>70.966003</td>\n",
       "      <td>70.702149</td>\n",
       "      <td>70.277217</td>\n",
       "      <td>70.102343</td>\n",
       "    </tr>\n",
       "    <tr>\n",
       "      <th>2019-11-22</th>\n",
       "      <td>66.608002</td>\n",
       "      <td>69.337434</td>\n",
       "      <td>69.927768</td>\n",
       "      <td>69.987775</td>\n",
       "    </tr>\n",
       "    <tr>\n",
       "      <th>...</th>\n",
       "      <td>...</td>\n",
       "      <td>...</td>\n",
       "      <td>...</td>\n",
       "      <td>...</td>\n",
       "    </tr>\n",
       "    <tr>\n",
       "      <th>2020-06-03</th>\n",
       "      <td>176.591995</td>\n",
       "      <td>173.301140</td>\n",
       "      <td>163.725705</td>\n",
       "      <td>146.237432</td>\n",
       "    </tr>\n",
       "    <tr>\n",
       "      <th>2020-06-04</th>\n",
       "      <td>172.876007</td>\n",
       "      <td>173.159429</td>\n",
       "      <td>164.597162</td>\n",
       "      <td>147.110828</td>\n",
       "    </tr>\n",
       "    <tr>\n",
       "      <th>2020-06-05</th>\n",
       "      <td>177.132004</td>\n",
       "      <td>174.483621</td>\n",
       "      <td>165.790957</td>\n",
       "      <td>148.095128</td>\n",
       "    </tr>\n",
       "    <tr>\n",
       "      <th>2020-06-08</th>\n",
       "      <td>189.983994</td>\n",
       "      <td>179.650412</td>\n",
       "      <td>168.095056</td>\n",
       "      <td>149.468534</td>\n",
       "    </tr>\n",
       "    <tr>\n",
       "      <th>2020-06-09</th>\n",
       "      <td>188.134003</td>\n",
       "      <td>182.478276</td>\n",
       "      <td>170.003527</td>\n",
       "      <td>150.736254</td>\n",
       "    </tr>\n",
       "  </tbody>\n",
       "</table>\n",
       "<p>140 rows × 4 columns</p>\n",
       "</div>"
      ],
      "text/plain": [
       "                 Close        SEMA        MEMA        LEMA\n",
       "Date                                                      \n",
       "2019-11-18   69.998001   69.998001   69.998001   69.998001\n",
       "2019-11-19   71.903999   70.633334   70.179525   70.060493\n",
       "2019-11-20   70.444000   70.570222   70.204713   70.073067\n",
       "2019-11-21   70.966003   70.702149   70.277217   70.102343\n",
       "2019-11-22   66.608002   69.337434   69.927768   69.987775\n",
       "...                ...         ...         ...         ...\n",
       "2020-06-03  176.591995  173.301140  163.725705  146.237432\n",
       "2020-06-04  172.876007  173.159429  164.597162  147.110828\n",
       "2020-06-05  177.132004  174.483621  165.790957  148.095128\n",
       "2020-06-08  189.983994  179.650412  168.095056  149.468534\n",
       "2020-06-09  188.134003  182.478276  170.003527  150.736254\n",
       "\n",
       "[140 rows x 4 columns]"
      ]
     },
     "execution_count": 6,
     "metadata": {},
     "output_type": "execute_result"
    }
   ],
   "source": [
    "df1 = pd.DataFrame.copy(df0)\n",
    "df1[\"SEMA\"] = SEMA\n",
    "df1[\"MEMA\"] = MEMA\n",
    "df1[\"LEMA\"] = LEMA\n",
    "df1"
   ]
  },
  {
   "cell_type": "markdown",
   "metadata": {},
   "source": [
    "<font face=\"Nunito\" size=4>VI. Create the Function to Buy and Sell the Stock (i.e. the Strategy)<br><br>\n",
    "<font size=3>Our data is in ascending order. We will later on `shift()` a series of indicators *down* by one row, such that<br>\n",
    "&emsp;&emsp; - the indicator for day X is aligned with the data/price for day X+1<br>\n",
    "&emsp;&emsp; - (alt: the indictor for day X-1 is aligned with data for day X<br>\n",
    "<br></font></font>\n",
    "\n",
    "Therfore, we will do this in two parts.\n",
    "- First: Create the BUY/SELL criteria/indicator/signals. With DataFrames this is sometimes called a *mask*.\n",
    "- Second: Apply the (boolean) mask to the correct row of data to simulate the buy/sell at that price.\n",
    "\n"
   ]
  },
  {
   "cell_type": "markdown",
   "metadata": {},
   "source": [
    "#### VI-0: Strategy Recap and Reformat\n",
    "\n",
    "1. BUY when the mid MA crosses above the long MA, *and* the short MA crosses above the mid MA.\n",
    "  - implies SELL when the (first part is true) *and* the short MA crosses below the mid MA  \n",
    "2. BUY when the mid MA crosses below the long MA, *and* the short MA crosses below the mid MA.\n",
    "  - implies SELL when the (first part is true) *and* the short MA crosses above the mid MA.\n",
    "  \n",
    "---\n",
    "\n",
    "<font size=3>Encode<br><br></font>\n",
    "*s,m,l = short,mid,long ; ema = exponentially-weighted moving average*  \n",
    "Criteria: \n",
    "-  I. $mema > lema ~ ?\\rightarrow$ Need more info\n",
    "  - and A. $sema > mema ~ $ BUY\n",
    "  - OR\n",
    "  - and B. $sema < mema ~ $ SELL\n",
    "- II. $mema < lema ~ ?\\rightarrow$ Need more info\n",
    "  - and A. $sema < mema ~ $ BUY\n",
    "  - OR\n",
    "  - and B. $sema > mema ~ $ SELL\n",
    "\n",
    "---\n",
    "<font size=3>Reformat<br><br></font>\n",
    "BUY: $When~IA~or~IIA$\n",
    "\n",
    "SELL: $When~IB~or~IIB$\n",
    "\n",
    "NOTE: Since we leave out the possibility of $~=~$, we do not get a BUY nor SELL signal on the first day: 2019-11-18."
   ]
  },
  {
   "cell_type": "markdown",
   "metadata": {},
   "source": [
    "#### VI-1: Create the Buy and Sell Indicator/Flags/Mask\n",
    "\n",
    "Mask is just a boolean for every row in the DataFrame, made fomr comparing entries in that row across different columns.  \n",
    "The following statements evaluate to True or False for each row.\n",
    "\n",
    "- Note that if our indicators tells us to both Buy and Sell we will get not gains nor losses for that trading day.\n",
    "- Therfore (since we do not take commission into account) we don't need to combine the signals"
   ]
  },
  {
   "cell_type": "code",
   "execution_count": 7,
   "metadata": {},
   "outputs": [
    {
     "name": "stdout",
     "output_type": "stream",
     "text": [
      "BuyMask[0:5], values only\n",
      " [False  True  True  True  True]\n",
      "\n",
      "SellMask[:5], with Date index\n",
      " Date\n",
      "2019-11-18    False\n",
      "2019-11-19    False\n",
      "2019-11-20    False\n",
      "2019-11-21    False\n",
      "2019-11-22    False\n",
      "dtype: bool\n",
      "\n",
      "\tIf 'when to Buy' and 'when to Sell' are opposites, then this summary of \n",
      "\tcomparing one to the opposite of the other, will show that there's only 1 unique value.\n",
      "count      139\n",
      "unique       1\n",
      "top       True\n",
      "freq       139\n",
      "dtype: object\n"
     ]
    }
   ],
   "source": [
    "# IA or IIA --> (M>L & S>M) or (M<L & S<M)\n",
    "BuyMask = ((df1.MEMA > df1.LEMA) & (df1.SEMA > df1.MEMA)) | ((df1.MEMA < df1.LEMA) & (df1.SEMA < df1.MEMA))\n",
    "\n",
    "# IB or IIB --> (M>L & S<M) or (M<L & S>M)\n",
    "SellMask = ((df1.MEMA > df1.LEMA) & (df1.SEMA < df1.MEMA)) | ((df1.MEMA < df1.LEMA) & (df1.SEMA > df1.MEMA))\n",
    "\n",
    "# Finally, we add these to the DataFrame\n",
    "df1[\"Buy\"] = BuyMask\n",
    "df1[\"Sell\"] = SellMask\n",
    "\n",
    "# A quick test showing that outside of the first day, we have no ambigous signal to both buy and sell\n",
    "    # np.logical_not take the opposite of the value its given. Thus is turns True into False and cvice versa\n",
    "b_or_s = BuyMask[1:] == np.logical_not(SellMask[1:])\n",
    "\n",
    "print(f\"BuyMask[0:5], values only\\n {BuyMask.values[:5]}\")\n",
    "#print(f\"\\ttype(BuyMask) : {type(BuyMask)}\")\n",
    "print()\n",
    "print(f\"SellMask[:5], with Date index\\n {SellMask.head()}\")\n",
    "#print(f\"\\ttype(SellMask) : {type(SellMask)}\")\n",
    "\n",
    "print(\"\"\"\\n\\tIf 'when to Buy' and 'when to Sell' are opposites, then this summary of \n",
    "\\tcomparing one to the opposite of the other, will show that there's only 1 unique value.\"\"\")\n",
    "print(b_or_s.describe())"
   ]
  },
  {
   "cell_type": "markdown",
   "metadata": {},
   "source": [
    "- $\\Downarrow$ our new DataFrame, for reference"
   ]
  },
  {
   "cell_type": "code",
   "execution_count": 8,
   "metadata": {},
   "outputs": [
    {
     "data": {
      "text/html": [
       "<div>\n",
       "<style scoped>\n",
       "    .dataframe tbody tr th:only-of-type {\n",
       "        vertical-align: middle;\n",
       "    }\n",
       "\n",
       "    .dataframe tbody tr th {\n",
       "        vertical-align: top;\n",
       "    }\n",
       "\n",
       "    .dataframe thead th {\n",
       "        text-align: right;\n",
       "    }\n",
       "</style>\n",
       "<table border=\"1\" class=\"dataframe\">\n",
       "  <thead>\n",
       "    <tr style=\"text-align: right;\">\n",
       "      <th></th>\n",
       "      <th>Close</th>\n",
       "      <th>SEMA</th>\n",
       "      <th>MEMA</th>\n",
       "      <th>LEMA</th>\n",
       "      <th>Buy</th>\n",
       "      <th>Sell</th>\n",
       "    </tr>\n",
       "    <tr>\n",
       "      <th>Date</th>\n",
       "      <th></th>\n",
       "      <th></th>\n",
       "      <th></th>\n",
       "      <th></th>\n",
       "      <th></th>\n",
       "      <th></th>\n",
       "    </tr>\n",
       "  </thead>\n",
       "  <tbody>\n",
       "    <tr>\n",
       "      <th>2019-11-18</th>\n",
       "      <td>69.998001</td>\n",
       "      <td>69.998001</td>\n",
       "      <td>69.998001</td>\n",
       "      <td>69.998001</td>\n",
       "      <td>False</td>\n",
       "      <td>False</td>\n",
       "    </tr>\n",
       "    <tr>\n",
       "      <th>2019-11-19</th>\n",
       "      <td>71.903999</td>\n",
       "      <td>70.633334</td>\n",
       "      <td>70.179525</td>\n",
       "      <td>70.060493</td>\n",
       "      <td>True</td>\n",
       "      <td>False</td>\n",
       "    </tr>\n",
       "    <tr>\n",
       "      <th>2019-11-20</th>\n",
       "      <td>70.444000</td>\n",
       "      <td>70.570222</td>\n",
       "      <td>70.204713</td>\n",
       "      <td>70.073067</td>\n",
       "      <td>True</td>\n",
       "      <td>False</td>\n",
       "    </tr>\n",
       "    <tr>\n",
       "      <th>2019-11-21</th>\n",
       "      <td>70.966003</td>\n",
       "      <td>70.702149</td>\n",
       "      <td>70.277217</td>\n",
       "      <td>70.102343</td>\n",
       "      <td>True</td>\n",
       "      <td>False</td>\n",
       "    </tr>\n",
       "    <tr>\n",
       "      <th>2019-11-22</th>\n",
       "      <td>66.608002</td>\n",
       "      <td>69.337434</td>\n",
       "      <td>69.927768</td>\n",
       "      <td>69.987775</td>\n",
       "      <td>True</td>\n",
       "      <td>False</td>\n",
       "    </tr>\n",
       "    <tr>\n",
       "      <th>...</th>\n",
       "      <td>...</td>\n",
       "      <td>...</td>\n",
       "      <td>...</td>\n",
       "      <td>...</td>\n",
       "      <td>...</td>\n",
       "      <td>...</td>\n",
       "    </tr>\n",
       "    <tr>\n",
       "      <th>2020-06-03</th>\n",
       "      <td>176.591995</td>\n",
       "      <td>173.301140</td>\n",
       "      <td>163.725705</td>\n",
       "      <td>146.237432</td>\n",
       "      <td>True</td>\n",
       "      <td>False</td>\n",
       "    </tr>\n",
       "    <tr>\n",
       "      <th>2020-06-04</th>\n",
       "      <td>172.876007</td>\n",
       "      <td>173.159429</td>\n",
       "      <td>164.597162</td>\n",
       "      <td>147.110828</td>\n",
       "      <td>True</td>\n",
       "      <td>False</td>\n",
       "    </tr>\n",
       "    <tr>\n",
       "      <th>2020-06-05</th>\n",
       "      <td>177.132004</td>\n",
       "      <td>174.483621</td>\n",
       "      <td>165.790957</td>\n",
       "      <td>148.095128</td>\n",
       "      <td>True</td>\n",
       "      <td>False</td>\n",
       "    </tr>\n",
       "    <tr>\n",
       "      <th>2020-06-08</th>\n",
       "      <td>189.983994</td>\n",
       "      <td>179.650412</td>\n",
       "      <td>168.095056</td>\n",
       "      <td>149.468534</td>\n",
       "      <td>True</td>\n",
       "      <td>False</td>\n",
       "    </tr>\n",
       "    <tr>\n",
       "      <th>2020-06-09</th>\n",
       "      <td>188.134003</td>\n",
       "      <td>182.478276</td>\n",
       "      <td>170.003527</td>\n",
       "      <td>150.736254</td>\n",
       "      <td>True</td>\n",
       "      <td>False</td>\n",
       "    </tr>\n",
       "  </tbody>\n",
       "</table>\n",
       "<p>140 rows × 6 columns</p>\n",
       "</div>"
      ],
      "text/plain": [
       "                 Close        SEMA        MEMA        LEMA    Buy   Sell\n",
       "Date                                                                    \n",
       "2019-11-18   69.998001   69.998001   69.998001   69.998001  False  False\n",
       "2019-11-19   71.903999   70.633334   70.179525   70.060493   True  False\n",
       "2019-11-20   70.444000   70.570222   70.204713   70.073067   True  False\n",
       "2019-11-21   70.966003   70.702149   70.277217   70.102343   True  False\n",
       "2019-11-22   66.608002   69.337434   69.927768   69.987775   True  False\n",
       "...                ...         ...         ...         ...    ...    ...\n",
       "2020-06-03  176.591995  173.301140  163.725705  146.237432   True  False\n",
       "2020-06-04  172.876007  173.159429  164.597162  147.110828   True  False\n",
       "2020-06-05  177.132004  174.483621  165.790957  148.095128   True  False\n",
       "2020-06-08  189.983994  179.650412  168.095056  149.468534   True  False\n",
       "2020-06-09  188.134003  182.478276  170.003527  150.736254   True  False\n",
       "\n",
       "[140 rows x 6 columns]"
      ]
     },
     "execution_count": 8,
     "metadata": {},
     "output_type": "execute_result"
    }
   ],
   "source": [
    "df1"
   ]
  },
  {
   "cell_type": "markdown",
   "metadata": {},
   "source": [
    "#### VI-2:  Apply the (boolean) mask to the correct row of data\n",
    "\n",
    "This was not done in the video and is extra. Now that we have signals for each day, we can use this signal to tell use what to do tomorrow. Therefore, we can consider tomorrows gain/loss our own gain/loss if we had followed the strategy.\n",
    "\n",
    "We verified using `np.logical_not` that our Buy and Sell columns were just opposites. Again, this is ignoring day one, because all EMAs have an **equal** value on that day, and out strategy only uses $>$ or$<~$. In any case, this means we only need **one** of the columns. If Buy is `True`, we know Sell is `False`, and if Buy is `False`, we know Sell is `True`. No need to check the other column.\n",
    "\n",
    "**Magic Formula**  \n",
    "Gain or Loss / Profit or Loss/ PnL equals:  \n",
    "$\\Rightarrow$ (True or False inidcator yesterday) $~\\times~$ Today's Price Change\n",
    "- In Python `True` is `1` and `False` is `0` so `True * -4` = -4, and `False * -2.5` = 0\n",
    "- Obviously the positive number case works the same way. We use this to determine PnL.\n",
    "- You can use absolute change and aggregate with addition or percent change and aggreate with multiplication."
   ]
  },
  {
   "cell_type": "code",
   "execution_count": 9,
   "metadata": {},
   "outputs": [
    {
     "data": {
      "text/html": [
       "<div>\n",
       "<style scoped>\n",
       "    .dataframe tbody tr th:only-of-type {\n",
       "        vertical-align: middle;\n",
       "    }\n",
       "\n",
       "    .dataframe tbody tr th {\n",
       "        vertical-align: top;\n",
       "    }\n",
       "\n",
       "    .dataframe thead th {\n",
       "        text-align: right;\n",
       "    }\n",
       "</style>\n",
       "<table border=\"1\" class=\"dataframe\">\n",
       "  <thead>\n",
       "    <tr style=\"text-align: right;\">\n",
       "      <th></th>\n",
       "      <th>Close</th>\n",
       "      <th>SEMA</th>\n",
       "      <th>MEMA</th>\n",
       "      <th>LEMA</th>\n",
       "      <th>Buy</th>\n",
       "      <th>Sell</th>\n",
       "      <th>PercentChange</th>\n",
       "      <th>PriceChange</th>\n",
       "    </tr>\n",
       "    <tr>\n",
       "      <th>Date</th>\n",
       "      <th></th>\n",
       "      <th></th>\n",
       "      <th></th>\n",
       "      <th></th>\n",
       "      <th></th>\n",
       "      <th></th>\n",
       "      <th></th>\n",
       "      <th></th>\n",
       "    </tr>\n",
       "  </thead>\n",
       "  <tbody>\n",
       "    <tr>\n",
       "      <th>2019-12-09</th>\n",
       "      <td>67.905998</td>\n",
       "      <td>67.163069</td>\n",
       "      <td>67.962049</td>\n",
       "      <td>69.071735</td>\n",
       "      <td>True</td>\n",
       "      <td>False</td>\n",
       "      <td>0.010837</td>\n",
       "      <td>0.727997</td>\n",
       "    </tr>\n",
       "    <tr>\n",
       "      <th>2019-12-10</th>\n",
       "      <td>69.767998</td>\n",
       "      <td>68.031379</td>\n",
       "      <td>68.134044</td>\n",
       "      <td>69.094563</td>\n",
       "      <td>True</td>\n",
       "      <td>False</td>\n",
       "      <td>0.027420</td>\n",
       "      <td>1.862000</td>\n",
       "    </tr>\n",
       "    <tr>\n",
       "      <th>2019-12-11</th>\n",
       "      <td>70.540001</td>\n",
       "      <td>68.867586</td>\n",
       "      <td>68.363183</td>\n",
       "      <td>69.141955</td>\n",
       "      <td>False</td>\n",
       "      <td>True</td>\n",
       "      <td>0.011065</td>\n",
       "      <td>0.772003</td>\n",
       "    </tr>\n",
       "    <tr>\n",
       "      <th>2019-12-12</th>\n",
       "      <td>71.935997</td>\n",
       "      <td>69.890390</td>\n",
       "      <td>68.703451</td>\n",
       "      <td>69.233563</td>\n",
       "      <td>False</td>\n",
       "      <td>True</td>\n",
       "      <td>0.019790</td>\n",
       "      <td>1.395996</td>\n",
       "    </tr>\n",
       "    <tr>\n",
       "      <th>2019-12-13</th>\n",
       "      <td>71.678001</td>\n",
       "      <td>70.486260</td>\n",
       "      <td>68.986742</td>\n",
       "      <td>69.313708</td>\n",
       "      <td>False</td>\n",
       "      <td>True</td>\n",
       "      <td>-0.003586</td>\n",
       "      <td>-0.257996</td>\n",
       "    </tr>\n",
       "    <tr>\n",
       "      <th>2019-12-16</th>\n",
       "      <td>76.300003</td>\n",
       "      <td>72.424174</td>\n",
       "      <td>69.683243</td>\n",
       "      <td>69.542767</td>\n",
       "      <td>True</td>\n",
       "      <td>False</td>\n",
       "      <td>0.064483</td>\n",
       "      <td>4.622002</td>\n",
       "    </tr>\n",
       "    <tr>\n",
       "      <th>2019-12-17</th>\n",
       "      <td>75.797997</td>\n",
       "      <td>73.548782</td>\n",
       "      <td>70.265600</td>\n",
       "      <td>69.747857</td>\n",
       "      <td>True</td>\n",
       "      <td>False</td>\n",
       "      <td>-0.006579</td>\n",
       "      <td>-0.502006</td>\n",
       "    </tr>\n",
       "  </tbody>\n",
       "</table>\n",
       "</div>"
      ],
      "text/plain": [
       "                Close       SEMA       MEMA       LEMA    Buy   Sell  \\\n",
       "Date                                                                   \n",
       "2019-12-09  67.905998  67.163069  67.962049  69.071735   True  False   \n",
       "2019-12-10  69.767998  68.031379  68.134044  69.094563   True  False   \n",
       "2019-12-11  70.540001  68.867586  68.363183  69.141955  False   True   \n",
       "2019-12-12  71.935997  69.890390  68.703451  69.233563  False   True   \n",
       "2019-12-13  71.678001  70.486260  68.986742  69.313708  False   True   \n",
       "2019-12-16  76.300003  72.424174  69.683243  69.542767   True  False   \n",
       "2019-12-17  75.797997  73.548782  70.265600  69.747857   True  False   \n",
       "\n",
       "            PercentChange  PriceChange  \n",
       "Date                                    \n",
       "2019-12-09       0.010837     0.727997  \n",
       "2019-12-10       0.027420     1.862000  \n",
       "2019-12-11       0.011065     0.772003  \n",
       "2019-12-12       0.019790     1.395996  \n",
       "2019-12-13      -0.003586    -0.257996  \n",
       "2019-12-16       0.064483     4.622002  \n",
       "2019-12-17      -0.006579    -0.502006  "
      ]
     },
     "execution_count": 9,
     "metadata": {},
     "output_type": "execute_result"
    }
   ],
   "source": [
    "# Make a colum for the price change from yesterday. \n",
    "#Since our data is with ascending dates when don't need to change default parameters\n",
    "df1[\"PercentChange\"] = df1.Close.pct_change()\n",
    "df1[\"PriceChange\"] = df1.Close.diff()\n",
    "df1[14:21]"
   ]
  },
  {
   "cell_type": "code",
   "execution_count": 10,
   "metadata": {},
   "outputs": [
    {
     "data": {
      "text/plain": [
       "Date\n",
       "2019-12-06    1.104004\n",
       "2019-12-09    0.727997\n",
       "2019-12-10    1.862000\n",
       "2019-12-11    0.000000\n",
       "2019-12-12    0.000000\n",
       "2019-12-13   -0.000000\n",
       "2019-12-16    4.622002\n",
       "2019-12-17   -0.502006\n",
       "2019-12-18    2.832000\n",
       "dtype: float64"
      ]
     },
     "execution_count": 10,
     "metadata": {},
     "output_type": "execute_result"
    }
   ],
   "source": [
    "# Calculate daily PnL (Profit and Loss)\n",
    "PnL = df1.PriceChange * df1.Buy\n",
    "PnL[13:22]"
   ]
  },
  {
   "cell_type": "markdown",
   "metadata": {},
   "source": [
    "# CREATE a column that does OR or the Buy & Sell Columns\n",
    "## otherwise, on days you should sell, if the buy column is False, but you gained/loss o that day, the strategy will record 0, since False * PriceChange = 0"
   ]
  },
  {
   "cell_type": "markdown",
   "metadata": {},
   "source": [
    "<font face=\"Nunito\" size=4>...</font>"
   ]
  },
  {
   "cell_type": "markdown",
   "metadata": {},
   "source": [
    "<font face=\"Nunito\" size=4>...</font>"
   ]
  },
  {
   "cell_type": "markdown",
   "metadata": {},
   "source": [
    "<font face=\"Nunito\" size=4>...</font>"
   ]
  },
  {
   "cell_type": "markdown",
   "metadata": {},
   "source": [
    "<font face=\"Nunito\" size=4>...</font>"
   ]
  },
  {
   "cell_type": "markdown",
   "metadata": {},
   "source": [
    "<font face=\"Nunito\" size=4>...</font>"
   ]
  },
  {
   "cell_type": "markdown",
   "metadata": {},
   "source": [
    "<font face=\"Nunito\" size=4>...</font>"
   ]
  },
  {
   "cell_type": "markdown",
   "metadata": {},
   "source": [
    "<font face=\"Nunito\" size=4>...</font>"
   ]
  },
  {
   "cell_type": "markdown",
   "metadata": {},
   "source": [
    "<font face=\"Nunito\" size=4>...</font>"
   ]
  },
  {
   "cell_type": "markdown",
   "metadata": {},
   "source": [
    "<font face=\"Nunito\" size=4>...</font>"
   ]
  },
  {
   "cell_type": "markdown",
   "metadata": {},
   "source": [
    "<font face=\"Nunito\" size=4>...</font>"
   ]
  },
  {
   "cell_type": "markdown",
   "metadata": {},
   "source": [
    "<font face=\"Nunito\" size=4>...</font>"
   ]
  },
  {
   "cell_type": "markdown",
   "metadata": {},
   "source": [
    "<font face=\"Nunito\" size=4>...</font>"
   ]
  },
  {
   "cell_type": "markdown",
   "metadata": {},
   "source": [
    "<font face=\"Nunito\" size=4>...</font>"
   ]
  },
  {
   "cell_type": "markdown",
   "metadata": {},
   "source": [
    "<font face=\"Nunito\" size=4>...</font>"
   ]
  },
  {
   "cell_type": "markdown",
   "metadata": {},
   "source": [
    "<font face=\"Nunito\" size=4>...</font>"
   ]
  },
  {
   "cell_type": "markdown",
   "metadata": {},
   "source": [
    "<font face=\"Nunito\" size=4>...</font>"
   ]
  },
  {
   "cell_type": "markdown",
   "metadata": {},
   "source": [
    "<font face=\"Nunito\" size=4>...</font>"
   ]
  },
  {
   "cell_type": "markdown",
   "metadata": {},
   "source": [
    "<font face=\"Nunito\" size=4>...</font>"
   ]
  },
  {
   "cell_type": "markdown",
   "metadata": {},
   "source": [
    "<font face=\"Nunito\" size=4>...</font>"
   ]
  },
  {
   "cell_type": "markdown",
   "metadata": {},
   "source": [
    "<font face=\"Nunito\" size=4>...</font>"
   ]
  },
  {
   "cell_type": "markdown",
   "metadata": {},
   "source": [
    "<font face=\"Nunito\" size=4>...</font>"
   ]
  },
  {
   "cell_type": "markdown",
   "metadata": {},
   "source": [
    "<font face=\"Nunito\" size=4>...</font>"
   ]
  },
  {
   "cell_type": "markdown",
   "metadata": {},
   "source": [
    "<font face=\"Nunito\" size=4>...</font>"
   ]
  },
  {
   "cell_type": "code",
   "execution_count": null,
   "metadata": {},
   "outputs": [],
   "source": []
  }
 ],
 "metadata": {
  "kernelspec": {
   "display_name": "Python 3",
   "language": "python",
   "name": "python3"
  },
  "language_info": {
   "codemirror_mode": {
    "name": "ipython",
    "version": 3
   },
   "file_extension": ".py",
   "mimetype": "text/x-python",
   "name": "python",
   "nbconvert_exporter": "python",
   "pygments_lexer": "ipython3",
   "version": "3.8.5"
  }
 },
 "nbformat": 4,
 "nbformat_minor": 4
}
