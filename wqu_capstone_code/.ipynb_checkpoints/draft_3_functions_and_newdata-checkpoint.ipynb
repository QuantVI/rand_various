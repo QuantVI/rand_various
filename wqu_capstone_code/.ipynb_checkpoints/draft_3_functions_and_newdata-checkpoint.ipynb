{
 "cells": [
  {
   "cell_type": "markdown",
   "metadata": {},
   "source": [
    "<font face=\"Nunito\" size=4>Making Code re-usable & Testing Actual Data\n",
    "<font size=3><br>\n",
    "    In this draft of the code we will\n",
    "    <li> attempt to replicate things form the previous draft but usig functions instead of plain code out in the open\n",
    "    <li> use the same dat that will beused in the project\n",
    "    <li> Expand on the number and types of graphs we have to explain and compare our results\n",
    "    <li> Hopefully apply these things to a different strategy\n",
    "</font>\n",
    "</font>"
   ]
  },
  {
   "cell_type": "markdown",
   "metadata": {},
   "source": [
    "- At least one stock\n",
    "- At least one index\n",
    "- Hourly data\n",
    "- Simple Moving Average indicator crossover rules\n",
    "  - SMA-30\n",
    "  - SMA-50\n"
   ]
  },
  {
   "cell_type": "markdown",
   "metadata": {},
   "source": [
    "$Simple~Moving~Average$\n",
    "\n",
    "> A lax *crossover* signal is adapted by referring to is the past 30 periods simple moving average of prices (SMA-**30**) is\n",
    "above or below the past 50 periods simple moving average of prices (SMA-**50**). A buy (sell) signal is taken to have been generated when the SMA-**30** exceeds (drops below) the SMA-**50**.\n",
    "\n",
    "\n",
    "- (i) When the SMA-30 crosses above the SMA-50, this constitutes a buy signal and any short positions are closed and a long position is opened.\n",
    "- (ii) When the SMA-30 crosses below the SMA-50, this constitutes a buy signal and any long positions are closed and a short position is opened"
   ]
  },
  {
   "cell_type": "markdown",
   "metadata": {},
   "source": [
    "$Volatility~Filter~–~Average~True~Range~(ATR)$\n",
    "\n",
    "\n",
    "Current ATR = \\[ ( Prior ATR × (n − 1)) + Current TR \\] $\\div$ n *$~~~~$ formula (1)*\n",
    "\n",
    "where $n$ is the user-defined number of periods,\n",
    "\n",
    "Current TR = Max(−Current Low, Current High − Previous Close, Current Low − Previous Close) *$~~~~$ formula (2)*"
   ]
  },
  {
   "cell_type": "code",
   "execution_count": null,
   "metadata": {},
   "outputs": [],
   "source": []
  },
  {
   "cell_type": "code",
   "execution_count": null,
   "metadata": {},
   "outputs": [],
   "source": []
  },
  {
   "cell_type": "code",
   "execution_count": null,
   "metadata": {},
   "outputs": [],
   "source": []
  },
  {
   "cell_type": "markdown",
   "metadata": {},
   "source": [
    "<font face=\"Nunito\" size=4>0. Imports</font>"
   ]
  },
  {
   "cell_type": "code",
   "execution_count": 1,
   "metadata": {},
   "outputs": [],
   "source": [
    "import pandas as pd\n",
    "import numpy as np\n",
    "import matplotlib.pyplot as plt\n",
    "import matplotlib.patheffects as pe\n",
    "plt.style.use(\"fivethirtyeight\")\n",
    "%matplotlib inline"
   ]
  },
  {
   "cell_type": "markdown",
   "metadata": {},
   "source": [
    "<font face=\"Nunito\" size=4>I. Load Data into a DataFrame<br>\n",
    "<font size=3>\n",
    "We will be using the following data:\n",
    "    <li> Hourly data from the S\\&P500,from 1998-01-02 9am to 2020-03-09 3pm, from the QuantConnect [Lean pacakge Github](https://github.com/QuantConnect/Lean)\n",
    "    <li> Daily data from the S\\&P500, from 2007-01-03 to 2020-12-31, from [Yahoo! Finance](https://finance.yahoo.com/quote/%5EGSPC/history?p=%5EGSPC)\n",
    "\n",
    "Data will be trimmed in order to compare across the same ranges.\n",
    "</font>\n",
    "</font>"
   ]
  },
  {
   "cell_type": "markdown",
   "metadata": {},
   "source": [
    "QuantConnect Data:\n",
    "- columns: time, close, high, low, open, volume\n",
    "- dates: as listed above\n",
    "\n",
    "Yahoo!Finance\n",
    "- columns: date, open, high, low, close, adj close, volume\n",
    "- dates: as listed above\n"
   ]
  },
  {
   "cell_type": "code",
   "execution_count": null,
   "metadata": {},
   "outputs": [],
   "source": [
    "# QC\n",
    "qcdf = pd.read_csv(\"data_files/quantconnect_hourly_spy.csv\",parse_dates=[0])\n",
    "# YF\n",
    "yfdf = \"\""
   ]
  },
  {
   "cell_type": "markdown",
   "metadata": {},
   "source": [
    "<font face=\"Nunito\" size=4>...</font>"
   ]
  },
  {
   "cell_type": "markdown",
   "metadata": {},
   "source": [
    "<font face=\"Nunito\" size=4>...</font>"
   ]
  },
  {
   "cell_type": "markdown",
   "metadata": {},
   "source": [
    "<font face=\"Nunito\" size=4>...</font>"
   ]
  },
  {
   "cell_type": "code",
   "execution_count": null,
   "metadata": {},
   "outputs": [],
   "source": []
  }
 ],
 "metadata": {
  "kernelspec": {
   "display_name": "Python 3",
   "language": "python",
   "name": "python3"
  },
  "language_info": {
   "codemirror_mode": {
    "name": "ipython",
    "version": 3
   },
   "file_extension": ".py",
   "mimetype": "text/x-python",
   "name": "python",
   "nbconvert_exporter": "python",
   "pygments_lexer": "ipython3",
   "version": "3.8.5"
  }
 },
 "nbformat": 4,
 "nbformat_minor": 4
}
