{
 "cells": [
  {
   "cell_type": "markdown",
   "metadata": {},
   "source": [
    "<font face=\"Nunito\" size=4>Making Code re-usable & Testing Actual Data\n",
    "<font size=3><br>\n",
    "    In this draft of the code we will\n",
    "    <li> attempt to replicate things form the previous draft but usig functions instead of plain code out in the open\n",
    "    <li> use the same dat that will beused in the project\n",
    "    <li> Expand on the number and types of graphs we have to explain and compare our results\n",
    "    <li> Hopefully apply these things to a different strategy\n",
    "</font>\n",
    "</font>"
   ]
  },
  {
   "cell_type": "markdown",
   "metadata": {},
   "source": [
    "- At least one stock\n",
    "- At least one index\n",
    "- Hourly data\n",
    "- Simple Moving Average indicator crossover rules\n",
    "  - SMA-30\n",
    "  - SMA-50\n"
   ]
  },
  {
   "cell_type": "markdown",
   "metadata": {},
   "source": [
    "$Simple~Moving~Average$\n",
    "\n",
    "> A lax *crossover* signal is adapted by referring to is the past 30 periods simple moving average of prices (SMA-**30**) is\n",
    "above or below the past 50 periods simple moving average of prices (SMA-**50**). A buy (sell) signal is taken to have been generated when the SMA-**30** exceeds (drops below) the SMA-**50**.\n",
    "\n",
    "\n",
    "- (i) When the SMA-30 crosses above the SMA-50, this constitutes a buy signal and any short positions are closed and a long position is opened.\n",
    "- (ii) When the SMA-30 crosses below the SMA-50, this constitutes a buy signal and any long positions are closed and a short position is opened"
   ]
  },
  {
   "cell_type": "markdown",
   "metadata": {},
   "source": [
    "$Volatility~Filter~–~Average~True~Range~(ATR)$\n",
    "\n",
    "\n",
    "Current ATR = \\[ ( Prior ATR × (n − 1)) + Current TR \\] $\\div$ n *$~~~~$ formula (1)*\n",
    "\n",
    "where $n$ is the user-defined number of periods,\n",
    "\n",
    "Current TR = Max(−Current Low, Current High − Previous Close, Current Low − Previous Close) *$~~~~$ formula (2)*"
   ]
  },
  {
   "cell_type": "code",
   "execution_count": null,
   "metadata": {},
   "outputs": [],
   "source": []
  },
  {
   "cell_type": "code",
   "execution_count": null,
   "metadata": {},
   "outputs": [],
   "source": []
  },
  {
   "cell_type": "code",
   "execution_count": null,
   "metadata": {},
   "outputs": [],
   "source": []
  },
  {
   "cell_type": "markdown",
   "metadata": {},
   "source": [
    "<font face=\"Nunito\" size=4>0. Imports</font>"
   ]
  },
  {
   "cell_type": "code",
   "execution_count": 1,
   "metadata": {},
   "outputs": [],
   "source": [
    "import pandas as pd\n",
    "import numpy as np\n",
    "import matplotlib.pyplot as plt\n",
    "import matplotlib.patheffects as pe\n",
    "plt.style.use(\"fivethirtyeight\")\n",
    "%matplotlib inline"
   ]
  },
  {
   "cell_type": "markdown",
   "metadata": {},
   "source": [
    "<font face=\"Nunito\" size=4>I. Load Data into a DataFrame<br><br>\n",
    "<font size=3>\n",
    "We will be using the following data:\n",
    "    <li> Hourly data from the S\\&P500,from 1998-01-02 9am to 2020-03-09 3pm, from the QuantConnect [Lean pacakge Github](https://github.com/QuantConnect/Lean)\n",
    "    <li> Daily data from the S\\&P500, from 2007-01-03 to 2020-12-31, from [Yahoo! Finance](https://finance.yahoo.com/quote/%5EGSPC/history?p=%5EGSPC)\n",
    "\n",
    "Data will be trimmed in order to compare across the same ranges.\n",
    "</font>\n",
    "</font>"
   ]
  },
  {
   "cell_type": "markdown",
   "metadata": {},
   "source": [
    "QuantConnect Data:\n",
    "- columns: time, close, high, low, open, volume\n",
    "- dates: as listed above\n",
    "- For some reason, the values of Close, High, Low, Open are multiplied by 1000. We'll divided ot make them match the Yahoo! data.\n",
    "\n",
    "Yahoo!Finance\n",
    "- columns: date, open, high, low, close, adj close, volume\n",
    "- dates: as listed above\n",
    "- ticker in Yahoo! Finance: ^GSPC\n"
   ]
  },
  {
   "cell_type": "code",
   "execution_count": 2,
   "metadata": {},
   "outputs": [],
   "source": [
    "# QC\n",
    "# The QuantConnect data doesn't have headers, so we add some.\n",
    "# We use converters to handle the x1000 issue with the index values.\n",
    "# We do not import the volume column.\n",
    "f00 = lambda str_num: (int(str_num)/1000)\n",
    "qcdf = pd.read_csv(\"data_files/quantconnect_hourly_spy.csv\",parse_dates=[0],\n",
    "                   names=[\"time\", \"close\", \"high\", \"low\", \"open\"],\n",
    "                   usecols=range(5),\n",
    "                   converters={\"close\":f00, \"high\":f00, \"low\":f00, \"open\":f00})\n",
    "# YF\n",
    "yfdf = pd.read_csv(\"data_files/YFSnp500_2007-20_GSPC.csv\",parse_dates=[0],\n",
    "                   names=[\"date\", \"open\", \"high\", \"low\", \"close\", \"adjClose\"],\n",
    "                   header=0, # explicitly says the first row is a header so we can override the names\n",
    "                   usecols=range(6))"
   ]
  },
  {
   "cell_type": "markdown",
   "metadata": {},
   "source": [
    "- Acsending order"
   ]
  },
  {
   "cell_type": "code",
   "execution_count": 3,
   "metadata": {},
   "outputs": [
    {
     "data": {
      "text/html": [
       "<div>\n",
       "<style scoped>\n",
       "    .dataframe tbody tr th:only-of-type {\n",
       "        vertical-align: middle;\n",
       "    }\n",
       "\n",
       "    .dataframe tbody tr th {\n",
       "        vertical-align: top;\n",
       "    }\n",
       "\n",
       "    .dataframe thead th {\n",
       "        text-align: right;\n",
       "    }\n",
       "</style>\n",
       "<table border=\"1\" class=\"dataframe\">\n",
       "  <thead>\n",
       "    <tr style=\"text-align: right;\">\n",
       "      <th></th>\n",
       "      <th>time</th>\n",
       "      <th>close</th>\n",
       "      <th>high</th>\n",
       "      <th>low</th>\n",
       "      <th>open</th>\n",
       "    </tr>\n",
       "  </thead>\n",
       "  <tbody>\n",
       "    <tr>\n",
       "      <th>15814</th>\n",
       "      <td>2007-01-03 09:00:00</td>\n",
       "      <td>1422.7</td>\n",
       "      <td>1427.8</td>\n",
       "      <td>1419.3</td>\n",
       "      <td>1423.0</td>\n",
       "    </tr>\n",
       "    <tr>\n",
       "      <th>15815</th>\n",
       "      <td>2007-01-03 10:00:00</td>\n",
       "      <td>1420.5</td>\n",
       "      <td>1428.4</td>\n",
       "      <td>1419.9</td>\n",
       "      <td>1425.8</td>\n",
       "    </tr>\n",
       "    <tr>\n",
       "      <th>15816</th>\n",
       "      <td>2007-01-03 11:00:00</td>\n",
       "      <td>1425.8</td>\n",
       "      <td>1427.0</td>\n",
       "      <td>1425.1</td>\n",
       "      <td>1425.9</td>\n",
       "    </tr>\n",
       "    <tr>\n",
       "      <th>15817</th>\n",
       "      <td>2007-01-03 12:00:00</td>\n",
       "      <td>1425.8</td>\n",
       "      <td>1426.9</td>\n",
       "      <td>1423.9</td>\n",
       "      <td>1425.9</td>\n",
       "    </tr>\n",
       "    <tr>\n",
       "      <th>15818</th>\n",
       "      <td>2007-01-03 13:00:00</td>\n",
       "      <td>1425.6</td>\n",
       "      <td>1426.0</td>\n",
       "      <td>1420.0</td>\n",
       "      <td>1420.5</td>\n",
       "    </tr>\n",
       "    <tr>\n",
       "      <th>...</th>\n",
       "      <td>...</td>\n",
       "      <td>...</td>\n",
       "      <td>...</td>\n",
       "      <td>...</td>\n",
       "      <td>...</td>\n",
       "    </tr>\n",
       "    <tr>\n",
       "      <th>38950</th>\n",
       "      <td>2020-03-09 11:00:00</td>\n",
       "      <td>2786.1</td>\n",
       "      <td>2840.8</td>\n",
       "      <td>2780.2</td>\n",
       "      <td>2827.0</td>\n",
       "    </tr>\n",
       "    <tr>\n",
       "      <th>38951</th>\n",
       "      <td>2020-03-09 12:00:00</td>\n",
       "      <td>2826.9</td>\n",
       "      <td>2841.4</td>\n",
       "      <td>2790.1</td>\n",
       "      <td>2797.1</td>\n",
       "    </tr>\n",
       "    <tr>\n",
       "      <th>38952</th>\n",
       "      <td>2020-03-09 13:00:00</td>\n",
       "      <td>2796.8</td>\n",
       "      <td>2807.1</td>\n",
       "      <td>2753.5</td>\n",
       "      <td>2758.5</td>\n",
       "    </tr>\n",
       "    <tr>\n",
       "      <th>38953</th>\n",
       "      <td>2020-03-09 14:00:00</td>\n",
       "      <td>2758.2</td>\n",
       "      <td>2776.3</td>\n",
       "      <td>2734.6</td>\n",
       "      <td>2765.9</td>\n",
       "    </tr>\n",
       "    <tr>\n",
       "      <th>38954</th>\n",
       "      <td>2020-03-09 15:00:00</td>\n",
       "      <td>2766.5</td>\n",
       "      <td>2793.1</td>\n",
       "      <td>2743.8</td>\n",
       "      <td>2744.1</td>\n",
       "    </tr>\n",
       "  </tbody>\n",
       "</table>\n",
       "<p>23141 rows × 5 columns</p>\n",
       "</div>"
      ],
      "text/plain": [
       "                     time   close    high     low    open\n",
       "15814 2007-01-03 09:00:00  1422.7  1427.8  1419.3  1423.0\n",
       "15815 2007-01-03 10:00:00  1420.5  1428.4  1419.9  1425.8\n",
       "15816 2007-01-03 11:00:00  1425.8  1427.0  1425.1  1425.9\n",
       "15817 2007-01-03 12:00:00  1425.8  1426.9  1423.9  1425.9\n",
       "15818 2007-01-03 13:00:00  1425.6  1426.0  1420.0  1420.5\n",
       "...                   ...     ...     ...     ...     ...\n",
       "38950 2020-03-09 11:00:00  2786.1  2840.8  2780.2  2827.0\n",
       "38951 2020-03-09 12:00:00  2826.9  2841.4  2790.1  2797.1\n",
       "38952 2020-03-09 13:00:00  2796.8  2807.1  2753.5  2758.5\n",
       "38953 2020-03-09 14:00:00  2758.2  2776.3  2734.6  2765.9\n",
       "38954 2020-03-09 15:00:00  2766.5  2793.1  2743.8  2744.1\n",
       "\n",
       "[23141 rows x 5 columns]"
      ]
     },
     "execution_count": 3,
     "metadata": {},
     "output_type": "execute_result"
    }
   ],
   "source": [
    "qcdf[qcdf.time >= \"2007-01-03\"]"
   ]
  },
  {
   "cell_type": "markdown",
   "metadata": {},
   "source": [
    "- verify that the datetimein the QuantConnect data is indeed a datetime object"
   ]
  },
  {
   "cell_type": "code",
   "execution_count": 4,
   "metadata": {},
   "outputs": [
    {
     "data": {
      "text/plain": [
       "Timestamp('1998-01-02 09:00:00')"
      ]
     },
     "execution_count": 4,
     "metadata": {},
     "output_type": "execute_result"
    }
   ],
   "source": [
    "qcdf.time[0]"
   ]
  },
  {
   "cell_type": "code",
   "execution_count": 5,
   "metadata": {},
   "outputs": [
    {
     "data": {
      "text/html": [
       "<div>\n",
       "<style scoped>\n",
       "    .dataframe tbody tr th:only-of-type {\n",
       "        vertical-align: middle;\n",
       "    }\n",
       "\n",
       "    .dataframe tbody tr th {\n",
       "        vertical-align: top;\n",
       "    }\n",
       "\n",
       "    .dataframe thead th {\n",
       "        text-align: right;\n",
       "    }\n",
       "</style>\n",
       "<table border=\"1\" class=\"dataframe\">\n",
       "  <thead>\n",
       "    <tr style=\"text-align: right;\">\n",
       "      <th></th>\n",
       "      <th>date</th>\n",
       "      <th>open</th>\n",
       "      <th>high</th>\n",
       "      <th>low</th>\n",
       "      <th>close</th>\n",
       "      <th>adjClose</th>\n",
       "    </tr>\n",
       "  </thead>\n",
       "  <tbody>\n",
       "    <tr>\n",
       "      <th>0</th>\n",
       "      <td>2007-01-03</td>\n",
       "      <td>1418.030029</td>\n",
       "      <td>1429.420044</td>\n",
       "      <td>1407.859985</td>\n",
       "      <td>1416.599976</td>\n",
       "      <td>1416.599976</td>\n",
       "    </tr>\n",
       "    <tr>\n",
       "      <th>1</th>\n",
       "      <td>2007-01-04</td>\n",
       "      <td>1416.599976</td>\n",
       "      <td>1421.839966</td>\n",
       "      <td>1408.430054</td>\n",
       "      <td>1418.339966</td>\n",
       "      <td>1418.339966</td>\n",
       "    </tr>\n",
       "    <tr>\n",
       "      <th>2</th>\n",
       "      <td>2007-01-05</td>\n",
       "      <td>1418.339966</td>\n",
       "      <td>1418.339966</td>\n",
       "      <td>1405.750000</td>\n",
       "      <td>1409.709961</td>\n",
       "      <td>1409.709961</td>\n",
       "    </tr>\n",
       "    <tr>\n",
       "      <th>3</th>\n",
       "      <td>2007-01-08</td>\n",
       "      <td>1409.260010</td>\n",
       "      <td>1414.979980</td>\n",
       "      <td>1403.969971</td>\n",
       "      <td>1412.839966</td>\n",
       "      <td>1412.839966</td>\n",
       "    </tr>\n",
       "    <tr>\n",
       "      <th>4</th>\n",
       "      <td>2007-01-09</td>\n",
       "      <td>1412.839966</td>\n",
       "      <td>1415.609985</td>\n",
       "      <td>1405.420044</td>\n",
       "      <td>1412.109985</td>\n",
       "      <td>1412.109985</td>\n",
       "    </tr>\n",
       "    <tr>\n",
       "      <th>...</th>\n",
       "      <td>...</td>\n",
       "      <td>...</td>\n",
       "      <td>...</td>\n",
       "      <td>...</td>\n",
       "      <td>...</td>\n",
       "      <td>...</td>\n",
       "    </tr>\n",
       "    <tr>\n",
       "      <th>3520</th>\n",
       "      <td>2020-12-24</td>\n",
       "      <td>3694.030029</td>\n",
       "      <td>3703.820068</td>\n",
       "      <td>3689.320068</td>\n",
       "      <td>3703.060059</td>\n",
       "      <td>3703.060059</td>\n",
       "    </tr>\n",
       "    <tr>\n",
       "      <th>3521</th>\n",
       "      <td>2020-12-28</td>\n",
       "      <td>3723.030029</td>\n",
       "      <td>3740.510010</td>\n",
       "      <td>3723.030029</td>\n",
       "      <td>3735.360107</td>\n",
       "      <td>3735.360107</td>\n",
       "    </tr>\n",
       "    <tr>\n",
       "      <th>3522</th>\n",
       "      <td>2020-12-29</td>\n",
       "      <td>3750.010010</td>\n",
       "      <td>3756.120117</td>\n",
       "      <td>3723.310059</td>\n",
       "      <td>3727.040039</td>\n",
       "      <td>3727.040039</td>\n",
       "    </tr>\n",
       "    <tr>\n",
       "      <th>3523</th>\n",
       "      <td>2020-12-30</td>\n",
       "      <td>3736.189941</td>\n",
       "      <td>3744.629883</td>\n",
       "      <td>3730.209961</td>\n",
       "      <td>3732.040039</td>\n",
       "      <td>3732.040039</td>\n",
       "    </tr>\n",
       "    <tr>\n",
       "      <th>3524</th>\n",
       "      <td>2020-12-31</td>\n",
       "      <td>3733.270020</td>\n",
       "      <td>3760.199951</td>\n",
       "      <td>3726.879883</td>\n",
       "      <td>3756.070068</td>\n",
       "      <td>3756.070068</td>\n",
       "    </tr>\n",
       "  </tbody>\n",
       "</table>\n",
       "<p>3525 rows × 6 columns</p>\n",
       "</div>"
      ],
      "text/plain": [
       "           date         open         high          low        close  \\\n",
       "0    2007-01-03  1418.030029  1429.420044  1407.859985  1416.599976   \n",
       "1    2007-01-04  1416.599976  1421.839966  1408.430054  1418.339966   \n",
       "2    2007-01-05  1418.339966  1418.339966  1405.750000  1409.709961   \n",
       "3    2007-01-08  1409.260010  1414.979980  1403.969971  1412.839966   \n",
       "4    2007-01-09  1412.839966  1415.609985  1405.420044  1412.109985   \n",
       "...         ...          ...          ...          ...          ...   \n",
       "3520 2020-12-24  3694.030029  3703.820068  3689.320068  3703.060059   \n",
       "3521 2020-12-28  3723.030029  3740.510010  3723.030029  3735.360107   \n",
       "3522 2020-12-29  3750.010010  3756.120117  3723.310059  3727.040039   \n",
       "3523 2020-12-30  3736.189941  3744.629883  3730.209961  3732.040039   \n",
       "3524 2020-12-31  3733.270020  3760.199951  3726.879883  3756.070068   \n",
       "\n",
       "         adjClose  \n",
       "0     1416.599976  \n",
       "1     1418.339966  \n",
       "2     1409.709961  \n",
       "3     1412.839966  \n",
       "4     1412.109985  \n",
       "...           ...  \n",
       "3520  3703.060059  \n",
       "3521  3735.360107  \n",
       "3522  3727.040039  \n",
       "3523  3732.040039  \n",
       "3524  3756.070068  \n",
       "\n",
       "[3525 rows x 6 columns]"
      ]
     },
     "execution_count": 5,
     "metadata": {},
     "output_type": "execute_result"
    }
   ],
   "source": [
    "yfdf"
   ]
  },
  {
   "cell_type": "markdown",
   "metadata": {},
   "source": [
    "- Since the data on the S&P 500 comes from two different sources, QuantConnect and Yahoo!Finance, we will observe differences in the OHLC values. \n",
    "- This isn not an issuse for what we'd like to test."
   ]
  },
  {
   "cell_type": "code",
   "execution_count": null,
   "metadata": {},
   "outputs": [],
   "source": []
  },
  {
   "cell_type": "markdown",
   "metadata": {},
   "source": [
    "<font face=\"Nunito\" size=4>...</font>"
   ]
  },
  {
   "cell_type": "markdown",
   "metadata": {},
   "source": [
    "<font face=\"Nunito\" size=4>...</font>"
   ]
  },
  {
   "cell_type": "markdown",
   "metadata": {},
   "source": [
    "<font face=\"Nunito\" size=4>II. Visually Show the Close Price</font>"
   ]
  },
  {
   "cell_type": "markdown",
   "metadata": {},
   "source": [
    "<font face=\"Nunito\" size=4>...</font>"
   ]
  },
  {
   "cell_type": "markdown",
   "metadata": {},
   "source": [
    "<font face=\"Nunito\" size=4>III. Calculate the 3 Moving Averages</font>"
   ]
  },
  {
   "cell_type": "markdown",
   "metadata": {},
   "source": [
    "<font face=\"Nunito\" size=4>...</font>"
   ]
  },
  {
   "cell_type": "markdown",
   "metadata": {},
   "source": [
    "<font face=\"Nunito\" size=4>IV. Visualize the Closing Price along with the Moving Averages</font>"
   ]
  },
  {
   "cell_type": "markdown",
   "metadata": {},
   "source": [
    "<font face=\"Nunito\" size=4>...</font>"
   ]
  },
  {
   "cell_type": "markdown",
   "metadata": {},
   "source": [
    "<font face=\"Nunito\" size=4>V. Add the EMAs to the Dataset</font>"
   ]
  },
  {
   "cell_type": "markdown",
   "metadata": {},
   "source": [
    "<font face=\"Nunito\" size=4>...</font>"
   ]
  },
  {
   "cell_type": "markdown",
   "metadata": {},
   "source": [
    "<font face=\"Nunito\" size=4>VI. Create the Function to Buy and Sell the Stock (i.e. the Strategy)<br><br>\n",
    "<font size=3>Our data is in ascending order. We will later on `shift()` a series of indicators *down* by one row, such that<br>\n",
    "&emsp;&emsp; - the indicator for day X is aligned with the data/price for day X+1<br>\n",
    "&emsp;&emsp; - (alt: the indictor for day X-1 is aligned with data for day X<br>\n",
    "<br></font></font>\n",
    "\n",
    "Therfore, we will do this in two parts.\n",
    "- First: Create the BUY/SELL criteria/indicator/signals. With DataFrames this is sometimes called a *mask*.\n",
    "- Second: Apply the (boolean) mask to the correct row of data to simulate the buy/sell at that price.\n",
    "\n"
   ]
  },
  {
   "cell_type": "markdown",
   "metadata": {},
   "source": [
    "#### VI-0: Strategy Recap and Reformat"
   ]
  },
  {
   "cell_type": "markdown",
   "metadata": {},
   "source": [
    "#### VI-1: Create the Buy and Sell Indicator/Flags/Mask"
   ]
  },
  {
   "cell_type": "markdown",
   "metadata": {},
   "source": [
    "#### VI-2:  Apply the (boolean) mask to the correct row of data\n",
    "\n",
    "This was not done in the video and is extra. Now that we have signals for each day, we can use this signal to tell use what to do tomorrow. Therefore, we can consider tomorrows gain/loss our own gain/loss if we had followed the strategy.\n",
    "\n",
    "We verified using `np.logical_not` that our Buy and Sell columns were just opposites. Again, this is ignoring day one, because all EMAs have an **equal** value on that day, and out strategy only uses $>$ or$<~$. In any case, this means we only need **one** of the columns. If Buy is `True`, we know Sell is `False`, and if Buy is `False`, we know Sell is `True`. No need to check the other column.\n",
    "\n",
    "**Magic Formula**  \n",
    "Gain or Loss / Profit or Loss/ PnL equals:  \n",
    "$\\Rightarrow$ (True or False inidcator yesterday) $~\\times~$ Today's Price Change\n",
    "- In Python `True` is `1` and `False` is `0` so `True * -4` = -4, and `False * -2.5` = 0\n",
    "- Obviously the positive number case works the same way. We use this to determine PnL.\n",
    "- You can use absolute change and aggregate with addition or percent change and aggreate with multiplication."
   ]
  },
  {
   "cell_type": "markdown",
   "metadata": {},
   "source": [
    "$\\Uparrow$ As we can see now Buy = 1 and Sell = -1.  \n",
    "We apply (multiply) these to the `PriceChange` column. It actualy works that if the strategy says \"Sell\" (-1) and the maakret dropped (PriceChange is negative), then we \"gain\" on that day.\n",
    "\n",
    "$\\Downarrow$ The strategy in action\n",
    "- If we were always LONG the market/secutiry, our PnL would mirror the `PriceChange` column. Similarly it would be the opposite of the PriceChange column if we were akways SHORT. Our true PnL will come from the sum of products of `PriceChange` and `Decicion`.\n",
    "- With this sum of products we will have the cumulative PnL over the entire date span"
   ]
  },
  {
   "cell_type": "markdown",
   "metadata": {},
   "source": [
    "The values in our `PercentChange` column can be added to $1$ to get the relative change since the prevous day.  \n",
    "For example $0.027229$ becomes $1.027229$ - an increase. Also $-0.020305$ becomes  $1 +~-0.020305~=~0.97695$ - a \n",
    "decrease.\n",
    "- By adding 1 we create a today-reative-to-yesterday value.\n",
    "- We can multiply thes enumbers together for a cummulative aggregation of the gain/loss over the timeframe.\n",
    "* **We actually should not add the 1 in until after we incorporate the `Decision`."
   ]
  },
  {
   "cell_type": "markdown",
   "metadata": {},
   "source": [
    "<font face=\"Nunito\" size=4>...</font>"
   ]
  },
  {
   "cell_type": "markdown",
   "metadata": {},
   "source": [
    "<font face=\"Nunito\" size=4>VII. Plots<br><br>\n",
    "<font size=3>We'd like to look at plots of the following:<br>\n",
    "    <li> The points when our strategy told us to BUY (our buy signals).\n",
    "    <li> The points when our strategy told us to SELL.\n",
    "</font>\n",
    "</font>"
   ]
  },
  {
   "cell_type": "markdown",
   "metadata": {},
   "source": [
    "<font face=\"Nunito\" size=4>...</font>"
   ]
  },
  {
   "cell_type": "code",
   "execution_count": 6,
   "metadata": {},
   "outputs": [
    {
     "ename": "NameError",
     "evalue": "name 'df1' is not defined",
     "output_type": "error",
     "traceback": [
      "\u001b[1;31m---------------------------------------------------------------------------\u001b[0m",
      "\u001b[1;31mNameError\u001b[0m                                 Traceback (most recent call last)",
      "\u001b[1;32m<ipython-input-6-9af69943ce68>\u001b[0m in \u001b[0;36m<module>\u001b[1;34m\u001b[0m\n\u001b[0;32m      2\u001b[0m \u001b[0mplt\u001b[0m\u001b[1;33m.\u001b[0m\u001b[0mfigure\u001b[0m\u001b[1;33m(\u001b[0m\u001b[0mfigsize\u001b[0m\u001b[1;33m=\u001b[0m\u001b[1;33m(\u001b[0m\u001b[1;36m14\u001b[0m\u001b[1;33m,\u001b[0m\u001b[1;36m7\u001b[0m\u001b[1;33m)\u001b[0m\u001b[1;33m)\u001b[0m\u001b[1;33m\u001b[0m\u001b[1;33m\u001b[0m\u001b[0m\n\u001b[0;32m      3\u001b[0m \u001b[0mplt\u001b[0m\u001b[1;33m.\u001b[0m\u001b[0mtitle\u001b[0m\u001b[1;33m(\u001b[0m\u001b[1;34m\"Close Price - Tesla (TSLA)\"\u001b[0m\u001b[1;33m,\u001b[0m \u001b[0mfontsize\u001b[0m\u001b[1;33m=\u001b[0m\u001b[1;36m16\u001b[0m\u001b[1;33m)\u001b[0m\u001b[1;33m\u001b[0m\u001b[1;33m\u001b[0m\u001b[0m\n\u001b[1;32m----> 4\u001b[1;33m \u001b[0mplt\u001b[0m\u001b[1;33m.\u001b[0m\u001b[0mplot\u001b[0m\u001b[1;33m(\u001b[0m\u001b[0mdf1\u001b[0m\u001b[1;33m.\u001b[0m\u001b[0mClose\u001b[0m\u001b[1;33m,\u001b[0m \u001b[0mlabel\u001b[0m \u001b[1;33m=\u001b[0m \u001b[1;34m\"Close\"\u001b[0m\u001b[1;33m,\u001b[0m \u001b[0mcolor\u001b[0m\u001b[1;33m=\u001b[0m\u001b[1;34m\"grey\"\u001b[0m\u001b[1;33m,\u001b[0m \u001b[0malpha\u001b[0m\u001b[1;33m=\u001b[0m\u001b[1;36m0.8\u001b[0m\u001b[1;33m)\u001b[0m\u001b[1;33m\u001b[0m\u001b[1;33m\u001b[0m\u001b[0m\n\u001b[0m\u001b[0;32m      5\u001b[0m \u001b[1;31m# Now plot the EMA data\u001b[0m\u001b[1;33m\u001b[0m\u001b[1;33m\u001b[0m\u001b[1;33m\u001b[0m\u001b[0m\n\u001b[0;32m      6\u001b[0m \u001b[0mplt\u001b[0m\u001b[1;33m.\u001b[0m\u001b[0mplot\u001b[0m\u001b[1;33m(\u001b[0m\u001b[0mdf1\u001b[0m\u001b[1;33m.\u001b[0m\u001b[0mSEMA\u001b[0m\u001b[1;33m,\u001b[0m \u001b[0mlabel\u001b[0m \u001b[1;33m=\u001b[0m \u001b[1;34m\"Short EMA\"\u001b[0m\u001b[1;33m,\u001b[0m \u001b[0mcolor\u001b[0m\u001b[1;33m=\u001b[0m\u001b[1;34m\"purple\"\u001b[0m\u001b[1;33m,\u001b[0m \u001b[0malpha\u001b[0m\u001b[1;33m=\u001b[0m\u001b[1;36m0.4\u001b[0m\u001b[1;33m)\u001b[0m\u001b[1;33m\u001b[0m\u001b[1;33m\u001b[0m\u001b[0m\n",
      "\u001b[1;31mNameError\u001b[0m: name 'df1' is not defined"
     ]
    },
    {
     "data": {
      "image/png": "[encoded data removed]",
      "text/plain": [
       "<Figure size 1008x504 with 1 Axes>"
      ]
     },
     "metadata": {
      "needs_background": "light"
     },
     "output_type": "display_data"
    }
   ],
   "source": [
    "# We reuse most of the code from the previous plot\n",
    "plt.figure(figsize=(14,7))\n",
    "plt.title(\"Close Price - Tesla (TSLA)\", fontsize=16)\n",
    "plt.plot(df1.Close, label = \"Close\", color=\"grey\", alpha=0.8)\n",
    "# Now plot the EMA data\n",
    "plt.plot(df1.SEMA, label = \"Short EMA\", color=\"purple\", alpha=0.4)\n",
    "plt.plot(df1.MEMA, label = \"Mid EMA\", color=\"#ff6600\", alpha=0.4)\n",
    "plt.plot(df1.LEMA, label = \"Long EMA\", color=\"#ffff00\", alpha=0.4\n",
    "         ,linewidth=2\n",
    "         ,path_effects=[pe.Stroke(linewidth=4, foreground='#cccc00'), pe.Normal()])\n",
    "# ----\n",
    "# Now let's plot the Buy and Sell signals\n",
    "    # we need to revoer the price when Buy=Treu, but not when Buy=False\n",
    "    # We need to recover the price when Sell=True, but not when Sell=False\n",
    "    # These need to be in separate Series objects\n",
    "\n",
    "    # ---- we make the Series\n",
    "truebuyprice = df1.Buy * df1.Close\n",
    "truebuyprice = truebuyprice.replace(0,np.NAN)\n",
    "truesellprice = df1.Sell * df1.Close\n",
    "truesellprice = truesellprice.replace(0,np.NAN)\n",
    "    # we plot each series\n",
    "plt.scatter(df1.index, truebuyprice, color=\"green\", marker=\"^\", label=\"buy\")\n",
    "plt.scatter(df1.index, truesellprice, color=\"red\", marker=\"v\", label=\"sell\")\n",
    "    # ----\n",
    "# ----\n",
    "plt.xlabel(\"Date\", fontsize=14)\n",
    "plt.ylabel(\"Close Price\", fontsize=14)\n",
    "plt.legend(loc=\"center right\")\n",
    "plt.show()"
   ]
  },
  {
   "cell_type": "code",
   "execution_count": null,
   "metadata": {},
   "outputs": [],
   "source": []
  },
  {
   "cell_type": "markdown",
   "metadata": {},
   "source": [
    "<font face=\"Nunito\" size=4>...</font>"
   ]
  },
  {
   "cell_type": "markdown",
   "metadata": {},
   "source": [
    "<font face=\"Nunito\" size=4>...</font>"
   ]
  },
  {
   "cell_type": "markdown",
   "metadata": {},
   "source": [
    "<font face=\"Nunito\" size=4>...</font>"
   ]
  },
  {
   "cell_type": "markdown",
   "metadata": {},
   "source": [
    "<font face=\"Nunito\" size=4>...</font>"
   ]
  },
  {
   "cell_type": "markdown",
   "metadata": {},
   "source": [
    "<font face=\"Nunito\" size=4>...</font>"
   ]
  },
  {
   "cell_type": "markdown",
   "metadata": {},
   "source": [
    "<font face=\"Nunito\" size=4>...</font>"
   ]
  },
  {
   "cell_type": "markdown",
   "metadata": {},
   "source": [
    "<font face=\"Nunito\" size=4>...</font>"
   ]
  }
 ],
 "metadata": {
  "kernelspec": {
   "display_name": "Python 3",
   "language": "python",
   "name": "python3"
  },
  "language_info": {
   "codemirror_mode": {
    "name": "ipython",
    "version": 3
   },
   "file_extension": ".py",
   "mimetype": "text/x-python",
   "name": "python",
   "nbconvert_exporter": "python",
   "pygments_lexer": "ipython3",
   "version": "3.8.5"
  }
 },
 "nbformat": 4,
 "nbformat_minor": 4
}
