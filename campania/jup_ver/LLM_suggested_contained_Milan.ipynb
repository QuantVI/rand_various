{
 "cells": [
  {
   "cell_type": "markdown",
   "id": "9c83c104-9735-4460-8707-b34c598189a9",
   "metadata": {},
   "source": [
    "# 1"
   ]
  },
  {
   "cell_type": "markdown",
   "id": "69c64284-e1cf-4509-be31-89e30dac76e3",
   "metadata": {},
   "source": [
    "**01_lombard_model_reconstruction/**\n",
    "\n",
    "<font face=\"courier\" size=4>\n",
    "\n",
    "├── data/  \n",
    "│   └── example_input_data.csv  \n",
    "├── notebooks/  \n",
    "│   └── model_dev.ipynb  \n",
    "├── model/  \n",
    "│   ├── model_pipeline.py  \n",
    "│   └── scoring_function.py  \n",
    "├── reports/  \n",
    "│   └── model_development_document.pdf  \n",
    "├── tests/  \n",
    "│   └── test_pipeline.py  \n",
    "├── README.md  \n",
    "└── requirements.txt\n",
    "\n",
    "</font>"
   ]
  },
  {
   "cell_type": "markdown",
   "id": "f78d27e9-5bfa-43fb-af04-c9d7f10d5052",
   "metadata": {},
   "source": [
    "## 2"
   ]
  },
  {
   "cell_type": "markdown",
   "id": "d66ca07a-b21b-4837-8353-38f2144f1f84",
   "metadata": {},
   "source": [
    "## 2"
   ]
  },
  {
   "cell_type": "markdown",
   "id": "2186b558-9ad9-48e7-ab19-a76556da4567",
   "metadata": {},
   "source": [
    "## 2"
   ]
  },
  {
   "cell_type": "markdown",
   "id": "1a0b79be-d769-4f58-ad1d-ddb09bf95585",
   "metadata": {},
   "source": [
    "## 2"
   ]
  },
  {
   "cell_type": "markdown",
   "id": "1a6f359d-3878-4a5b-aa06-39279429cd94",
   "metadata": {},
   "source": [
    "## 2"
   ]
  },
  {
   "cell_type": "markdown",
   "id": "62add7c4-b3e9-44f4-bb8d-29db49e56747",
   "metadata": {},
   "source": [
    "## 2"
   ]
  },
  {
   "cell_type": "markdown",
   "id": "5ad12d69-75f5-4868-b0c4-c0f51e0be637",
   "metadata": {},
   "source": [
    "## 2"
   ]
  },
  {
   "cell_type": "markdown",
   "id": "6019d2fa-dae9-4590-b4b0-e2db298b08d3",
   "metadata": {},
   "source": [
    "## 2"
   ]
  },
  {
   "cell_type": "markdown",
   "id": "f0dae673-8f31-4c35-8a25-13dec32c7d2e",
   "metadata": {},
   "source": [
    "## 2"
   ]
  },
  {
   "cell_type": "markdown",
   "id": "25e0f9c6-890f-404b-ac7a-7f5545e8226e",
   "metadata": {},
   "source": [
    "## 2"
   ]
  }
 ],
 "metadata": {
  "kernelspec": {
   "display_name": "Python 3 (ipykernel)",
   "language": "python",
   "name": "python3"
  },
  "language_info": {
   "codemirror_mode": {
    "name": "ipython",
    "version": 3
   },
   "file_extension": ".py",
   "mimetype": "text/x-python",
   "name": "python",
   "nbconvert_exporter": "python",
   "pygments_lexer": "ipython3",
   "version": "3.9.17"
  }
 },
 "nbformat": 4,
 "nbformat_minor": 5
}
